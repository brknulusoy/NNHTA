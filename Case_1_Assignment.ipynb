{
 "cells": [
  {
   "cell_type": "markdown",
   "metadata": {},
   "source": [
    "# Assignment Case 1  \n",
    "### Ismail Barkın Ulusoy\n",
    "### Kritameth Coothongkul\n",
    "### Jiwon Lee  \n",
    "### Nayoun Kang  \n",
    "Last edited date: 01.02.2020\n",
    "\n",
    "### Helsinki Metropolia University of Applied Sciences"
   ]
  },
  {
   "cell_type": "markdown",
   "metadata": {},
   "source": [
    "#### Our Objective:\n",
    "The objective is to diagnos if a patient have heart diseases. This is done by using the data 'processed.cleveland.data' \n",
    "provided by 'V.A. Medical Center, Long Beach and Cleveland Clinic Foundation: Robert Detrano, M.D., Ph.D.', \n",
    "in which the data he provided will be tested and validated through different models and methods of neural networks. \n"
   ]
  },
  {
   "cell_type": "markdown",
   "metadata": {},
   "source": [
    "#### The Data Set:\n",
    "\n",
    "The dataset provided has a total of 303 instances with each instances having 76 raw attributes, but only 14 attributes are actually used.\n",
    "Therefore our data shown will show only the 14 used attributes:\n",
    "\n",
    "#### 1) age:\n",
    "    age in years       \n",
    "#### 2) sex: \n",
    "    sex (1 = male; 0 = female)     \n",
    "#### 3) cp: chest pain type  \n",
    "        -- Value 1: typical angina  \n",
    "        -- Value 2: atypical angina  \n",
    "        -- Value 3: non-anginal pain  \n",
    "        -- Value 4: asymptomatic          \n",
    "#### 4) trestbps:  \n",
    "    resting blood pressure (in mm Hg on admission to the hospital)  \n",
    "#### 5) chol:  \n",
    "    serum cholestoral in mg/dl         \n",
    "#### 6) fbs:   \n",
    "    (fasting blood sugar > 120 mg/dl)  (1 = true; 0 = false)       \n",
    "##### 7) restecg:     \n",
    "    resting electrocardiographic results  \n",
    "       -- Value 0: normal  \n",
    "       -- Value 1: having ST-T wave abnormality (T wave inversions and/or ST elevation or depression of > 0.05 mV)  \n",
    "       -- Value 2: showing probable or definite left ventricular hypertrophy by Estes' criteria  \n",
    "##### 8) thalach:   \n",
    "    maximum heart rate achieved   \n",
    "#### 9) exang:  \n",
    "    exercise induced angina (1 = yes; 0 = no)     \n",
    "#### 10) oldpeak = ST depression induced by exercise relative to rest   \n",
    "#### 11) slope:  \n",
    "    the slope of the peak exercise ST segment  \n",
    "        -- Value 1: upsloping  \n",
    "        -- Value 2: flat  \n",
    "        -- Value 3: downsloping   \n",
    "#### 12) ca:   \n",
    "    number of major vessels (0-3) colored by flourosopy        \n",
    "#### 13) thal:  \n",
    "    3 = normal; 6 = fixed defect; 7 = reversable defect      \n",
    "#### 14) num:  \n",
    "    diagnosis of heart disease (angiographic disease status)  \n",
    "        -- Value 0: < 50% diameter narrowing  \n",
    "        -- Value 1: > 50% diameter narrowing  \n",
    "        (in any major vessel: attributes 59 through 68 are vessels)\n",
    "        \n",
    "Some of the data fields have missing values which are denoted as \"?\". \n"
   ]
  },
  {
   "cell_type": "code",
   "execution_count": 1,
   "metadata": {},
   "outputs": [
    {
     "name": "stdout",
     "output_type": "stream",
     "text": [
      "Populating the interactive namespace from numpy and matplotlib\n"
     ]
    },
    {
     "name": "stderr",
     "output_type": "stream",
     "text": [
      "Using TensorFlow backend.\n"
     ]
    }
   ],
   "source": [
    "%pylab inline\n",
    "import pandas as pd\n",
    "import numpy as np\n",
    "from sklearn.preprocessing import StandardScaler\n",
    "from tensorflow.keras.models import Sequential\n",
    "from tensorflow.keras.layers import Dense\n",
    "from keras import regularizers"
   ]
  },
  {
   "cell_type": "markdown",
   "metadata": {},
   "source": [
    "#### Read the dataset and set \"?\" values to NaN."
   ]
  },
  {
   "cell_type": "code",
   "execution_count": 2,
   "metadata": {
    "scrolled": true
   },
   "outputs": [],
   "source": [
    "filename = r'https://archive.ics.uci.edu/ml/machine-learning-databases/heart-disease/processed.cleveland.data'\n",
    "df = pd.read_csv(filename,\n",
    "                 index_col = None,\n",
    "                header = None,\n",
    "                na_values = '?')"
   ]
  },
  {
   "cell_type": "markdown",
   "metadata": {},
   "source": [
    "#### Replace missing values with the mean value  \n",
    "We decided to go with the mean instead of dropping the rows because of how little data we have, we do not want to lose more."
   ]
  },
  {
   "cell_type": "code",
   "execution_count": 3,
   "metadata": {},
   "outputs": [
    {
     "data": {
      "text/html": [
       "<div>\n",
       "<style scoped>\n",
       "    .dataframe tbody tr th:only-of-type {\n",
       "        vertical-align: middle;\n",
       "    }\n",
       "\n",
       "    .dataframe tbody tr th {\n",
       "        vertical-align: top;\n",
       "    }\n",
       "\n",
       "    .dataframe thead th {\n",
       "        text-align: right;\n",
       "    }\n",
       "</style>\n",
       "<table border=\"1\" class=\"dataframe\">\n",
       "  <thead>\n",
       "    <tr style=\"text-align: right;\">\n",
       "      <th></th>\n",
       "      <th>0</th>\n",
       "      <th>1</th>\n",
       "      <th>2</th>\n",
       "      <th>3</th>\n",
       "      <th>4</th>\n",
       "      <th>5</th>\n",
       "      <th>6</th>\n",
       "      <th>7</th>\n",
       "      <th>8</th>\n",
       "      <th>9</th>\n",
       "      <th>10</th>\n",
       "      <th>11</th>\n",
       "      <th>12</th>\n",
       "      <th>13</th>\n",
       "    </tr>\n",
       "  </thead>\n",
       "  <tbody>\n",
       "    <tr>\n",
       "      <th>298</th>\n",
       "      <td>45.0</td>\n",
       "      <td>1.0</td>\n",
       "      <td>1.0</td>\n",
       "      <td>110.0</td>\n",
       "      <td>264.0</td>\n",
       "      <td>0.0</td>\n",
       "      <td>0.0</td>\n",
       "      <td>132.0</td>\n",
       "      <td>0.0</td>\n",
       "      <td>1.2</td>\n",
       "      <td>2.0</td>\n",
       "      <td>0.000000</td>\n",
       "      <td>7.0</td>\n",
       "      <td>1</td>\n",
       "    </tr>\n",
       "    <tr>\n",
       "      <th>299</th>\n",
       "      <td>68.0</td>\n",
       "      <td>1.0</td>\n",
       "      <td>4.0</td>\n",
       "      <td>144.0</td>\n",
       "      <td>193.0</td>\n",
       "      <td>1.0</td>\n",
       "      <td>0.0</td>\n",
       "      <td>141.0</td>\n",
       "      <td>0.0</td>\n",
       "      <td>3.4</td>\n",
       "      <td>2.0</td>\n",
       "      <td>2.000000</td>\n",
       "      <td>7.0</td>\n",
       "      <td>2</td>\n",
       "    </tr>\n",
       "    <tr>\n",
       "      <th>300</th>\n",
       "      <td>57.0</td>\n",
       "      <td>1.0</td>\n",
       "      <td>4.0</td>\n",
       "      <td>130.0</td>\n",
       "      <td>131.0</td>\n",
       "      <td>0.0</td>\n",
       "      <td>0.0</td>\n",
       "      <td>115.0</td>\n",
       "      <td>1.0</td>\n",
       "      <td>1.2</td>\n",
       "      <td>2.0</td>\n",
       "      <td>1.000000</td>\n",
       "      <td>7.0</td>\n",
       "      <td>3</td>\n",
       "    </tr>\n",
       "    <tr>\n",
       "      <th>301</th>\n",
       "      <td>57.0</td>\n",
       "      <td>0.0</td>\n",
       "      <td>2.0</td>\n",
       "      <td>130.0</td>\n",
       "      <td>236.0</td>\n",
       "      <td>0.0</td>\n",
       "      <td>2.0</td>\n",
       "      <td>174.0</td>\n",
       "      <td>0.0</td>\n",
       "      <td>0.0</td>\n",
       "      <td>2.0</td>\n",
       "      <td>1.000000</td>\n",
       "      <td>3.0</td>\n",
       "      <td>1</td>\n",
       "    </tr>\n",
       "    <tr>\n",
       "      <th>302</th>\n",
       "      <td>38.0</td>\n",
       "      <td>1.0</td>\n",
       "      <td>3.0</td>\n",
       "      <td>138.0</td>\n",
       "      <td>175.0</td>\n",
       "      <td>0.0</td>\n",
       "      <td>0.0</td>\n",
       "      <td>173.0</td>\n",
       "      <td>0.0</td>\n",
       "      <td>0.0</td>\n",
       "      <td>1.0</td>\n",
       "      <td>0.672241</td>\n",
       "      <td>3.0</td>\n",
       "      <td>0</td>\n",
       "    </tr>\n",
       "  </tbody>\n",
       "</table>\n",
       "</div>"
      ],
      "text/plain": [
       "       0    1    2      3      4    5    6      7    8    9    10        11  \\\n",
       "298  45.0  1.0  1.0  110.0  264.0  0.0  0.0  132.0  0.0  1.2  2.0  0.000000   \n",
       "299  68.0  1.0  4.0  144.0  193.0  1.0  0.0  141.0  0.0  3.4  2.0  2.000000   \n",
       "300  57.0  1.0  4.0  130.0  131.0  0.0  0.0  115.0  1.0  1.2  2.0  1.000000   \n",
       "301  57.0  0.0  2.0  130.0  236.0  0.0  2.0  174.0  0.0  0.0  2.0  1.000000   \n",
       "302  38.0  1.0  3.0  138.0  175.0  0.0  0.0  173.0  0.0  0.0  1.0  0.672241   \n",
       "\n",
       "      12  13  \n",
       "298  7.0   1  \n",
       "299  7.0   2  \n",
       "300  7.0   3  \n",
       "301  3.0   1  \n",
       "302  3.0   0  "
      ]
     },
     "execution_count": 3,
     "metadata": {},
     "output_type": "execute_result"
    }
   ],
   "source": [
    "df.fillna(df.mean(), inplace = True)\n",
    "df.tail()"
   ]
  },
  {
   "cell_type": "markdown",
   "metadata": {},
   "source": [
    "#### Create labels before scaling\n",
    "#### The label is the 13th column and has severity of the sickness.  \n",
    "#### We change it so its either sick = 1 , or notsick = 0 so its easier to compute."
   ]
  },
  {
   "cell_type": "code",
   "execution_count": 4,
   "metadata": {},
   "outputs": [],
   "source": [
    "labels = 1.0*(df.loc[:, 13]>0)"
   ]
  },
  {
   "cell_type": "markdown",
   "metadata": {},
   "source": [
    "#### Create a scaler to fit data into smaller portions and reduce the differences between values. For this we scaled it using StandardScaler which scales the data from -3 to +3"
   ]
  },
  {
   "cell_type": "code",
   "execution_count": 5,
   "metadata": {},
   "outputs": [
    {
     "data": {
      "text/html": [
       "<div>\n",
       "<style scoped>\n",
       "    .dataframe tbody tr th:only-of-type {\n",
       "        vertical-align: middle;\n",
       "    }\n",
       "\n",
       "    .dataframe tbody tr th {\n",
       "        vertical-align: top;\n",
       "    }\n",
       "\n",
       "    .dataframe thead th {\n",
       "        text-align: right;\n",
       "    }\n",
       "</style>\n",
       "<table border=\"1\" class=\"dataframe\">\n",
       "  <thead>\n",
       "    <tr style=\"text-align: right;\">\n",
       "      <th></th>\n",
       "      <th>0</th>\n",
       "      <th>1</th>\n",
       "      <th>2</th>\n",
       "      <th>3</th>\n",
       "      <th>4</th>\n",
       "      <th>5</th>\n",
       "      <th>6</th>\n",
       "      <th>7</th>\n",
       "      <th>8</th>\n",
       "      <th>9</th>\n",
       "      <th>10</th>\n",
       "      <th>11</th>\n",
       "      <th>12</th>\n",
       "      <th>13</th>\n",
       "    </tr>\n",
       "  </thead>\n",
       "  <tbody>\n",
       "    <tr>\n",
       "      <th>0</th>\n",
       "      <td>0.948726</td>\n",
       "      <td>0.686202</td>\n",
       "      <td>-2.251775</td>\n",
       "      <td>0.757525</td>\n",
       "      <td>-0.264900</td>\n",
       "      <td>2.394438</td>\n",
       "      <td>1.016684</td>\n",
       "      <td>0.017197</td>\n",
       "      <td>-0.696631</td>\n",
       "      <td>1.087338</td>\n",
       "      <td>2.274579</td>\n",
       "      <td>-0.723095</td>\n",
       "      <td>0.655818</td>\n",
       "      <td>-0.764198</td>\n",
       "    </tr>\n",
       "    <tr>\n",
       "      <th>1</th>\n",
       "      <td>1.392002</td>\n",
       "      <td>0.686202</td>\n",
       "      <td>0.877985</td>\n",
       "      <td>1.611220</td>\n",
       "      <td>0.760415</td>\n",
       "      <td>-0.417635</td>\n",
       "      <td>1.016684</td>\n",
       "      <td>-1.821905</td>\n",
       "      <td>1.435481</td>\n",
       "      <td>0.397182</td>\n",
       "      <td>0.649113</td>\n",
       "      <td>2.503851</td>\n",
       "      <td>-0.898522</td>\n",
       "      <td>0.866450</td>\n",
       "    </tr>\n",
       "    <tr>\n",
       "      <th>2</th>\n",
       "      <td>1.392002</td>\n",
       "      <td>0.686202</td>\n",
       "      <td>0.877985</td>\n",
       "      <td>-0.665300</td>\n",
       "      <td>-0.342283</td>\n",
       "      <td>-0.417635</td>\n",
       "      <td>1.016684</td>\n",
       "      <td>-0.902354</td>\n",
       "      <td>1.435481</td>\n",
       "      <td>1.346147</td>\n",
       "      <td>0.649113</td>\n",
       "      <td>1.428203</td>\n",
       "      <td>1.173931</td>\n",
       "      <td>0.051126</td>\n",
       "    </tr>\n",
       "    <tr>\n",
       "      <th>3</th>\n",
       "      <td>-1.932564</td>\n",
       "      <td>0.686202</td>\n",
       "      <td>-0.165268</td>\n",
       "      <td>-0.096170</td>\n",
       "      <td>0.063974</td>\n",
       "      <td>-0.417635</td>\n",
       "      <td>-0.996749</td>\n",
       "      <td>1.637359</td>\n",
       "      <td>-0.696631</td>\n",
       "      <td>2.122573</td>\n",
       "      <td>2.274579</td>\n",
       "      <td>-0.723095</td>\n",
       "      <td>-0.898522</td>\n",
       "      <td>-0.764198</td>\n",
       "    </tr>\n",
       "    <tr>\n",
       "      <th>4</th>\n",
       "      <td>-1.489288</td>\n",
       "      <td>-1.457296</td>\n",
       "      <td>-1.208521</td>\n",
       "      <td>-0.096170</td>\n",
       "      <td>-0.825922</td>\n",
       "      <td>-0.417635</td>\n",
       "      <td>1.016684</td>\n",
       "      <td>0.980537</td>\n",
       "      <td>-0.696631</td>\n",
       "      <td>0.310912</td>\n",
       "      <td>-0.976352</td>\n",
       "      <td>-0.723095</td>\n",
       "      <td>-0.898522</td>\n",
       "      <td>-0.764198</td>\n",
       "    </tr>\n",
       "    <tr>\n",
       "      <th>...</th>\n",
       "      <td>...</td>\n",
       "      <td>...</td>\n",
       "      <td>...</td>\n",
       "      <td>...</td>\n",
       "      <td>...</td>\n",
       "      <td>...</td>\n",
       "      <td>...</td>\n",
       "      <td>...</td>\n",
       "      <td>...</td>\n",
       "      <td>...</td>\n",
       "      <td>...</td>\n",
       "      <td>...</td>\n",
       "      <td>...</td>\n",
       "      <td>...</td>\n",
       "    </tr>\n",
       "    <tr>\n",
       "      <th>298</th>\n",
       "      <td>-1.046013</td>\n",
       "      <td>0.686202</td>\n",
       "      <td>-2.251775</td>\n",
       "      <td>-1.234430</td>\n",
       "      <td>0.334813</td>\n",
       "      <td>-0.417635</td>\n",
       "      <td>-0.996749</td>\n",
       "      <td>-0.770990</td>\n",
       "      <td>-0.696631</td>\n",
       "      <td>0.138373</td>\n",
       "      <td>0.649113</td>\n",
       "      <td>-0.723095</td>\n",
       "      <td>1.173931</td>\n",
       "      <td>0.051126</td>\n",
       "    </tr>\n",
       "    <tr>\n",
       "      <th>299</th>\n",
       "      <td>1.502821</td>\n",
       "      <td>0.686202</td>\n",
       "      <td>0.877985</td>\n",
       "      <td>0.700612</td>\n",
       "      <td>-1.038723</td>\n",
       "      <td>2.394438</td>\n",
       "      <td>-0.996749</td>\n",
       "      <td>-0.376896</td>\n",
       "      <td>-0.696631</td>\n",
       "      <td>2.036303</td>\n",
       "      <td>0.649113</td>\n",
       "      <td>1.428203</td>\n",
       "      <td>1.173931</td>\n",
       "      <td>0.866450</td>\n",
       "    </tr>\n",
       "    <tr>\n",
       "      <th>300</th>\n",
       "      <td>0.283813</td>\n",
       "      <td>0.686202</td>\n",
       "      <td>0.877985</td>\n",
       "      <td>-0.096170</td>\n",
       "      <td>-2.238149</td>\n",
       "      <td>-0.417635</td>\n",
       "      <td>-0.996749</td>\n",
       "      <td>-1.515388</td>\n",
       "      <td>1.435481</td>\n",
       "      <td>0.138373</td>\n",
       "      <td>0.649113</td>\n",
       "      <td>0.352554</td>\n",
       "      <td>1.173931</td>\n",
       "      <td>1.681773</td>\n",
       "    </tr>\n",
       "    <tr>\n",
       "      <th>301</th>\n",
       "      <td>0.283813</td>\n",
       "      <td>-1.457296</td>\n",
       "      <td>-1.208521</td>\n",
       "      <td>-0.096170</td>\n",
       "      <td>-0.206864</td>\n",
       "      <td>-0.417635</td>\n",
       "      <td>1.016684</td>\n",
       "      <td>1.068113</td>\n",
       "      <td>-0.696631</td>\n",
       "      <td>-0.896862</td>\n",
       "      <td>0.649113</td>\n",
       "      <td>0.352554</td>\n",
       "      <td>-0.898522</td>\n",
       "      <td>0.051126</td>\n",
       "    </tr>\n",
       "    <tr>\n",
       "      <th>302</th>\n",
       "      <td>-1.821745</td>\n",
       "      <td>0.686202</td>\n",
       "      <td>-0.165268</td>\n",
       "      <td>0.359134</td>\n",
       "      <td>-1.386944</td>\n",
       "      <td>-0.417635</td>\n",
       "      <td>-0.996749</td>\n",
       "      <td>1.024325</td>\n",
       "      <td>-0.696631</td>\n",
       "      <td>-0.896862</td>\n",
       "      <td>-0.976352</td>\n",
       "      <td>0.000000</td>\n",
       "      <td>-0.898522</td>\n",
       "      <td>-0.764198</td>\n",
       "    </tr>\n",
       "  </tbody>\n",
       "</table>\n",
       "<p>303 rows × 14 columns</p>\n",
       "</div>"
      ],
      "text/plain": [
       "            0         1         2         3         4         5         6  \\\n",
       "0    0.948726  0.686202 -2.251775  0.757525 -0.264900  2.394438  1.016684   \n",
       "1    1.392002  0.686202  0.877985  1.611220  0.760415 -0.417635  1.016684   \n",
       "2    1.392002  0.686202  0.877985 -0.665300 -0.342283 -0.417635  1.016684   \n",
       "3   -1.932564  0.686202 -0.165268 -0.096170  0.063974 -0.417635 -0.996749   \n",
       "4   -1.489288 -1.457296 -1.208521 -0.096170 -0.825922 -0.417635  1.016684   \n",
       "..        ...       ...       ...       ...       ...       ...       ...   \n",
       "298 -1.046013  0.686202 -2.251775 -1.234430  0.334813 -0.417635 -0.996749   \n",
       "299  1.502821  0.686202  0.877985  0.700612 -1.038723  2.394438 -0.996749   \n",
       "300  0.283813  0.686202  0.877985 -0.096170 -2.238149 -0.417635 -0.996749   \n",
       "301  0.283813 -1.457296 -1.208521 -0.096170 -0.206864 -0.417635  1.016684   \n",
       "302 -1.821745  0.686202 -0.165268  0.359134 -1.386944 -0.417635 -0.996749   \n",
       "\n",
       "            7         8         9        10        11        12        13  \n",
       "0    0.017197 -0.696631  1.087338  2.274579 -0.723095  0.655818 -0.764198  \n",
       "1   -1.821905  1.435481  0.397182  0.649113  2.503851 -0.898522  0.866450  \n",
       "2   -0.902354  1.435481  1.346147  0.649113  1.428203  1.173931  0.051126  \n",
       "3    1.637359 -0.696631  2.122573  2.274579 -0.723095 -0.898522 -0.764198  \n",
       "4    0.980537 -0.696631  0.310912 -0.976352 -0.723095 -0.898522 -0.764198  \n",
       "..        ...       ...       ...       ...       ...       ...       ...  \n",
       "298 -0.770990 -0.696631  0.138373  0.649113 -0.723095  1.173931  0.051126  \n",
       "299 -0.376896 -0.696631  2.036303  0.649113  1.428203  1.173931  0.866450  \n",
       "300 -1.515388  1.435481  0.138373  0.649113  0.352554  1.173931  1.681773  \n",
       "301  1.068113 -0.696631 -0.896862  0.649113  0.352554 -0.898522  0.051126  \n",
       "302  1.024325 -0.696631 -0.896862 -0.976352  0.000000 -0.898522 -0.764198  \n",
       "\n",
       "[303 rows x 14 columns]"
      ]
     },
     "execution_count": 5,
     "metadata": {},
     "output_type": "execute_result"
    }
   ],
   "source": [
    "scaler = StandardScaler()\n",
    "df_scaled = pd.DataFrame(scaler.fit_transform(df))\n",
    "df_scaled"
   ]
  },
  {
   "cell_type": "markdown",
   "metadata": {},
   "source": [
    "#### Create data to train  \n",
    "#### The first 12 columns have the data we want to check"
   ]
  },
  {
   "cell_type": "code",
   "execution_count": 6,
   "metadata": {},
   "outputs": [],
   "source": [
    "data = df_scaled.loc[:, 0:12]"
   ]
  },
  {
   "cell_type": "markdown",
   "metadata": {},
   "source": [
    "#### Turn the data and labels into numpy arrays to train the model"
   ]
  },
  {
   "cell_type": "code",
   "execution_count": 7,
   "metadata": {},
   "outputs": [],
   "source": [
    "labels = np.asarray(labels)\n",
    "data = np.asarray(data)"
   ]
  },
  {
   "cell_type": "markdown",
   "metadata": {},
   "source": [
    "#### This part creates the layers and when we tested out all possible \"Loss functions , Epochs , Batch sizes,validation_split, optimizers, Activation functions, Dense layer amounts and dense layer numbers\".\n",
    "\n",
    "#### We have provided other settings we have tried but werent as effective as the final model:\n",
    "- For 'sigmoid' activation , 'binary_crossentropy' loss, 'adagrad' optimizer, 'relu' activation \n",
    "  - 4 Dense Layers Consisting of (128,64,32,1)\n",
    "  - Batch size = 8\n",
    "  - Validation_split 0.10  \n",
    "      - The values above have been changed and tested. Overall find is the loss is higher and accuracy is lower compared to \"rmsprop\". So we started testing with that optimizer \"rmsprop\".\n",
    "      \n",
    "      -Test1 ) We started using 3 layers of 32-32-1 Dense layers and saw that the val_loss would spike very short after starting the training and it was unstable at learning.\n",
    "      \n",
    "      -Test2 ) We then tested 3 layers of 64-32-1 Dense layers and saw the same thing.\n",
    "      \n",
    "      -Test3 ) We reduced the layers down to 16-16-1 Dense layer and it was very stable at learning and wouldnt overfit instantly like the first 2 tests.\n",
    "      \n",
    "      -Test4 ) We then wanted to test out if we could bring in higher values and more layers. But after implementing a Dense layer value higher than 16, the same would happen that happened in test 1 and 2 causing it to overfit almost instantly.\n",
    "      \n",
    "      -Test5 ) We tried multiple combinations of 3 layers of 1,8,16 's and also 4 layers of 1,8,16's but all of them almost imedietly lost val_accuracy drastically after 10 epochs\n",
    "      \n",
    "      -Test6 ) We also tried using 4 and 5 layers which did not help us and led to the val_accuracy to drop instantly after a few epochs so we realized 3 layers was the way to go.\n",
    "      \n",
    "      -Test7 ) We then figgured out that 16 16 1 was the best version to train because of how stable it is and since the number of test data isn't as high , we do not use values more than 16 which cause almost instant overfit. Then we tried to use regularizer to see if we could make it overfit a bit later and it worked. We could extend the training duration without overfiting.           \n",
    "      - The same was seen when the following optimizers were used with varying hyperparameters:\n",
    "          - adam\n",
    "          - adamax\n",
    "          - adadelta\n",
    "          - nadam  \n",
    "          \n",
    "    ### - At the end we settled on:\n",
    "        - rmsprop optimizer\n",
    "        - 3 Dense layers consisting of 16(regularized)(relu) ,16(relu) ,1(sigmoid)\n",
    "        - with batch number of 8 \n",
    "        - validation_spli of 10%\n"
   ]
  },
  {
   "cell_type": "code",
   "execution_count": 8,
   "metadata": {},
   "outputs": [],
   "source": [
    "model = Sequential()\n",
    "\n",
    "model.add(Dense(16,kernel_regularizer=regularizers.l2(0.001),input_dim = 13, activation='relu'))\n",
    "model.add(Dense(16, activation= 'relu'))\n",
    "model.add(Dense(1, activation='sigmoid'))"
   ]
  },
  {
   "cell_type": "code",
   "execution_count": 9,
   "metadata": {},
   "outputs": [],
   "source": [
    "model.compile(optimizer = 'rmsprop',loss='binary_crossentropy', metrics=['accuracy'])"
   ]
  },
  {
   "cell_type": "markdown",
   "metadata": {},
   "source": [
    "\n",
    "#### We used 10% of the data to validate itself and we found that number to be the most efficient and stable\n",
    "\n",
    "##### So in total 272 was for training and 31 was for validating."
   ]
  },
  {
   "cell_type": "code",
   "execution_count": 10,
   "metadata": {
    "scrolled": true
   },
   "outputs": [
    {
     "name": "stdout",
     "output_type": "stream",
     "text": [
      "Train on 272 samples, validate on 31 samples\n",
      "Epoch 1/50\n",
      "272/272 [==============================] - 2s 8ms/sample - loss: 0.7224 - accuracy: 0.5404 - val_loss: 0.6266 - val_accuracy: 0.6774\n",
      "Epoch 2/50\n",
      "272/272 [==============================] - 0s 614us/sample - loss: 0.6263 - accuracy: 0.6875 - val_loss: 0.5730 - val_accuracy: 0.7742\n",
      "Epoch 3/50\n",
      "272/272 [==============================] - 0s 612us/sample - loss: 0.5505 - accuracy: 0.7868 - val_loss: 0.5356 - val_accuracy: 0.8065\n",
      "Epoch 4/50\n",
      "272/272 [==============================] - 0s 611us/sample - loss: 0.4873 - accuracy: 0.8162 - val_loss: 0.5053 - val_accuracy: 0.8065\n",
      "Epoch 5/50\n",
      "272/272 [==============================] - 0s 611us/sample - loss: 0.4410 - accuracy: 0.8346 - val_loss: 0.4864 - val_accuracy: 0.8387\n",
      "Epoch 6/50\n",
      "272/272 [==============================] - 0s 622us/sample - loss: 0.4093 - accuracy: 0.8419 - val_loss: 0.4858 - val_accuracy: 0.8387\n",
      "Epoch 7/50\n",
      "272/272 [==============================] - 0s 614us/sample - loss: 0.3895 - accuracy: 0.8456 - val_loss: 0.4782 - val_accuracy: 0.8387\n",
      "Epoch 8/50\n",
      "272/272 [==============================] - 0s 616us/sample - loss: 0.3750 - accuracy: 0.8603 - val_loss: 0.4726 - val_accuracy: 0.8387\n",
      "Epoch 9/50\n",
      "272/272 [==============================] - 0s 696us/sample - loss: 0.3643 - accuracy: 0.8640 - val_loss: 0.4697 - val_accuracy: 0.8387\n",
      "Epoch 10/50\n",
      "272/272 [==============================] - 0s 635us/sample - loss: 0.3543 - accuracy: 0.8713 - val_loss: 0.4668 - val_accuracy: 0.8065\n",
      "Epoch 11/50\n",
      "272/272 [==============================] - 0s 631us/sample - loss: 0.3459 - accuracy: 0.8750 - val_loss: 0.4735 - val_accuracy: 0.8065\n",
      "Epoch 12/50\n",
      "272/272 [==============================] - 0s 623us/sample - loss: 0.3410 - accuracy: 0.8640 - val_loss: 0.4632 - val_accuracy: 0.8065\n",
      "Epoch 13/50\n",
      "272/272 [==============================] - 0s 616us/sample - loss: 0.3349 - accuracy: 0.8824 - val_loss: 0.4607 - val_accuracy: 0.8065\n",
      "Epoch 14/50\n",
      "272/272 [==============================] - 0s 605us/sample - loss: 0.3291 - accuracy: 0.8824 - val_loss: 0.4643 - val_accuracy: 0.8065\n",
      "Epoch 15/50\n",
      "272/272 [==============================] - 0s 642us/sample - loss: 0.3236 - accuracy: 0.8860 - val_loss: 0.4642 - val_accuracy: 0.8065\n",
      "Epoch 16/50\n",
      "272/272 [==============================] - 0s 655us/sample - loss: 0.3196 - accuracy: 0.8860 - val_loss: 0.4640 - val_accuracy: 0.8065\n",
      "Epoch 17/50\n",
      "272/272 [==============================] - 0s 617us/sample - loss: 0.3137 - accuracy: 0.8897 - val_loss: 0.4664 - val_accuracy: 0.8065\n",
      "Epoch 18/50\n",
      "272/272 [==============================] - 0s 625us/sample - loss: 0.3092 - accuracy: 0.8897 - val_loss: 0.4652 - val_accuracy: 0.8065\n",
      "Epoch 19/50\n",
      "272/272 [==============================] - 0s 640us/sample - loss: 0.3055 - accuracy: 0.8897 - val_loss: 0.4653 - val_accuracy: 0.8065\n",
      "Epoch 20/50\n",
      "272/272 [==============================] - 0s 621us/sample - loss: 0.3000 - accuracy: 0.8934 - val_loss: 0.4609 - val_accuracy: 0.8065\n",
      "Epoch 21/50\n",
      "272/272 [==============================] - 0s 612us/sample - loss: 0.2960 - accuracy: 0.8934 - val_loss: 0.4675 - val_accuracy: 0.8065\n",
      "Epoch 22/50\n",
      "272/272 [==============================] - 0s 617us/sample - loss: 0.2923 - accuracy: 0.8934 - val_loss: 0.4649 - val_accuracy: 0.8065\n",
      "Epoch 23/50\n",
      "272/272 [==============================] - 0s 614us/sample - loss: 0.2883 - accuracy: 0.8971 - val_loss: 0.4562 - val_accuracy: 0.8065\n",
      "Epoch 24/50\n",
      "272/272 [==============================] - 0s 619us/sample - loss: 0.2849 - accuracy: 0.8971 - val_loss: 0.4542 - val_accuracy: 0.8065\n",
      "Epoch 25/50\n",
      "272/272 [==============================] - 0s 615us/sample - loss: 0.2811 - accuracy: 0.8971 - val_loss: 0.4613 - val_accuracy: 0.8065\n",
      "Epoch 26/50\n",
      "272/272 [==============================] - 0s 620us/sample - loss: 0.2784 - accuracy: 0.9007 - val_loss: 0.4575 - val_accuracy: 0.8065\n",
      "Epoch 27/50\n",
      "272/272 [==============================] - 0s 605us/sample - loss: 0.2746 - accuracy: 0.9044 - val_loss: 0.4508 - val_accuracy: 0.8065\n",
      "Epoch 28/50\n",
      "272/272 [==============================] - 0s 618us/sample - loss: 0.2713 - accuracy: 0.9007 - val_loss: 0.4536 - val_accuracy: 0.8065\n",
      "Epoch 29/50\n",
      "272/272 [==============================] - 0s 612us/sample - loss: 0.2691 - accuracy: 0.9081 - val_loss: 0.4548 - val_accuracy: 0.8065\n",
      "Epoch 30/50\n",
      "272/272 [==============================] - 0s 618us/sample - loss: 0.2665 - accuracy: 0.9081 - val_loss: 0.4534 - val_accuracy: 0.8065\n",
      "Epoch 31/50\n",
      "272/272 [==============================] - 0s 618us/sample - loss: 0.2628 - accuracy: 0.9081 - val_loss: 0.4586 - val_accuracy: 0.8065\n",
      "Epoch 32/50\n",
      "272/272 [==============================] - 0s 624us/sample - loss: 0.2608 - accuracy: 0.9154 - val_loss: 0.4641 - val_accuracy: 0.8065\n",
      "Epoch 33/50\n",
      "272/272 [==============================] - 0s 603us/sample - loss: 0.2585 - accuracy: 0.9081 - val_loss: 0.4619 - val_accuracy: 0.8065\n",
      "Epoch 34/50\n",
      "272/272 [==============================] - 0s 616us/sample - loss: 0.2550 - accuracy: 0.9228 - val_loss: 0.4669 - val_accuracy: 0.8065\n",
      "Epoch 35/50\n",
      "272/272 [==============================] - 0s 600us/sample - loss: 0.2545 - accuracy: 0.9081 - val_loss: 0.4557 - val_accuracy: 0.8065\n",
      "Epoch 36/50\n",
      "272/272 [==============================] - 0s 620us/sample - loss: 0.2499 - accuracy: 0.9154 - val_loss: 0.4585 - val_accuracy: 0.8065\n",
      "Epoch 37/50\n",
      "272/272 [==============================] - 0s 604us/sample - loss: 0.2506 - accuracy: 0.9154 - val_loss: 0.4565 - val_accuracy: 0.8065\n",
      "Epoch 38/50\n",
      "272/272 [==============================] - 0s 609us/sample - loss: 0.2467 - accuracy: 0.9191 - val_loss: 0.4573 - val_accuracy: 0.8065\n",
      "Epoch 39/50\n",
      "272/272 [==============================] - 0s 638us/sample - loss: 0.2446 - accuracy: 0.9154 - val_loss: 0.4564 - val_accuracy: 0.8065\n",
      "Epoch 40/50\n",
      "272/272 [==============================] - 0s 604us/sample - loss: 0.2412 - accuracy: 0.9228 - val_loss: 0.4694 - val_accuracy: 0.8065\n",
      "Epoch 41/50\n",
      "272/272 [==============================] - 0s 611us/sample - loss: 0.2412 - accuracy: 0.9228 - val_loss: 0.4591 - val_accuracy: 0.8065\n",
      "Epoch 42/50\n",
      "272/272 [==============================] - 0s 617us/sample - loss: 0.2380 - accuracy: 0.9228 - val_loss: 0.4600 - val_accuracy: 0.8065\n",
      "Epoch 43/50\n",
      "272/272 [==============================] - 0s 627us/sample - loss: 0.2359 - accuracy: 0.9265 - val_loss: 0.4576 - val_accuracy: 0.8065\n",
      "Epoch 44/50\n",
      "272/272 [==============================] - 0s 623us/sample - loss: 0.2335 - accuracy: 0.9301 - val_loss: 0.4686 - val_accuracy: 0.8065\n",
      "Epoch 45/50\n",
      "272/272 [==============================] - 0s 601us/sample - loss: 0.2315 - accuracy: 0.9265 - val_loss: 0.4626 - val_accuracy: 0.8065\n",
      "Epoch 46/50\n",
      "272/272 [==============================] - 0s 602us/sample - loss: 0.2307 - accuracy: 0.9301 - val_loss: 0.4644 - val_accuracy: 0.8065\n",
      "Epoch 47/50\n",
      "272/272 [==============================] - 0s 619us/sample - loss: 0.2275 - accuracy: 0.9301 - val_loss: 0.4601 - val_accuracy: 0.8065\n",
      "Epoch 48/50\n",
      "272/272 [==============================] - 0s 607us/sample - loss: 0.2261 - accuracy: 0.9301 - val_loss: 0.4584 - val_accuracy: 0.8065\n",
      "Epoch 49/50\n",
      "272/272 [==============================] - 0s 760us/sample - loss: 0.2230 - accuracy: 0.9265 - val_loss: 0.4550 - val_accuracy: 0.8065\n",
      "Epoch 50/50\n",
      "272/272 [==============================] - 0s 610us/sample - loss: 0.2216 - accuracy: 0.9375 - val_loss: 0.4755 - val_accuracy: 0.7742\n"
     ]
    }
   ],
   "source": [
    "network = model.fit(data, labels, epochs = 50, batch_size = 8, validation_split = 0.10)"
   ]
  },
  {
   "cell_type": "markdown",
   "metadata": {},
   "source": [
    "#### This section contains all the visualizations of the values according to the epochs in the network."
   ]
  },
  {
   "cell_type": "code",
   "execution_count": 11,
   "metadata": {},
   "outputs": [
    {
     "name": "stdout",
     "output_type": "stream",
     "text": [
      "<function show at 0x1130c4f80>\n"
     ]
    },
    {
     "data": {
      "image/png": "[encoded data removed]",
      "text/plain": [
       "<Figure size 432x288 with 1 Axes>"
      ]
     },
     "metadata": {
      "needs_background": "light"
     },
     "output_type": "display_data"
    }
   ],
   "source": [
    "plt.plot(network.history['loss'])\n",
    "plt.title('model loss')\n",
    "plt.ylabel('loss')\n",
    "plt.xlabel('epoch')\n",
    "plt.legend(['train','test'], loc='upper left')\n",
    "print(plt.show)"
   ]
  },
  {
   "cell_type": "markdown",
   "metadata": {},
   "source": [
    "From the model loss graph you can see that the loss of the neural network in contrast to the data gets lower as you increase the epoch. But this has some isues with overfitting which will be descussed later on."
   ]
  },
  {
   "cell_type": "code",
   "execution_count": 12,
   "metadata": {},
   "outputs": [
    {
     "name": "stdout",
     "output_type": "stream",
     "text": [
      "<function show at 0x1130c4f80>\n"
     ]
    },
    {
     "data": {
      "image/png": "[encoded data removed]",
      "text/plain": [
       "<Figure size 432x288 with 1 Axes>"
      ]
     },
     "metadata": {
      "needs_background": "light"
     },
     "output_type": "display_data"
    }
   ],
   "source": [
    "plt.plot(network.history['accuracy'])\n",
    "plt.title('model accuracy')\n",
    "plt.ylabel('accuracy')\n",
    "plt.xlabel('epoch')\n",
    "plt.legend(['train','test'], loc='upper left')\n",
    "print(plt.show)"
   ]
  },
  {
   "cell_type": "markdown",
   "metadata": {},
   "source": [
    "Just like in the graph before which was the loss graph, the accuracy graph can be described as the accuracy of how correct the network can guess if someone is sick or not in contrast to the data."
   ]
  },
  {
   "cell_type": "code",
   "execution_count": 13,
   "metadata": {
    "scrolled": true
   },
   "outputs": [
    {
     "name": "stdout",
     "output_type": "stream",
     "text": [
      "<function show at 0x1130c4f80>\n"
     ]
    },
    {
     "data": {
      "image/png": "[encoded data removed]",
      "text/plain": [
       "<Figure size 432x288 with 1 Axes>"
      ]
     },
     "metadata": {
      "needs_background": "light"
     },
     "output_type": "display_data"
    }
   ],
   "source": [
    "plt.plot(network.history['val_loss'])\n",
    "plt.title('model val_loss')\n",
    "plt.ylabel('val_loss')\n",
    "plt.xlabel('epoch')\n",
    "plt.legend(['train','test'], loc='upper left')\n",
    "print(plt.show)"
   ]
  },
  {
   "cell_type": "markdown",
   "metadata": {},
   "source": [
    "The validation loss also gets lower when you increase epochs. But when we take a look at the graph we can see that it isnt stable like the our model loss. From this we can see that around 25 epochs is where we get the best validation loss.The validation loss is computed by crosschecking the neural network with the validation data we have split while doing our training."
   ]
  },
  {
   "cell_type": "code",
   "execution_count": 14,
   "metadata": {
    "scrolled": false
   },
   "outputs": [
    {
     "name": "stdout",
     "output_type": "stream",
     "text": [
      "<function show at 0x1130c4f80>\n"
     ]
    },
    {
     "data": {
      "image/png": "[encoded data removed]",
      "text/plain": [
       "<Figure size 432x288 with 1 Axes>"
      ]
     },
     "metadata": {
      "needs_background": "light"
     },
     "output_type": "display_data"
    }
   ],
   "source": [
    "plt.plot(network.history['val_accuracy'])\n",
    "plt.title('model val_accuracy')\n",
    "plt.ylabel('val_accuracy')\n",
    "plt.xlabel('epoch')\n",
    "plt.legend(['train','test'], loc='upper left')\n",
    "print(plt.show)"
   ]
  },
  {
   "cell_type": "markdown",
   "metadata": {},
   "source": [
    "From the last graph we can see how accurate our neural network is when it is compared to the validation data. We can see that after 8 epochs and 46 epochs our accuracies goes lower because of the data overfitting. The best accuracy is around 5 epochs.  \n",
    "The validation accuracy may change since the training step takes at random data."
   ]
  },
  {
   "cell_type": "markdown",
   "metadata": {},
   "source": [
    "### Conclusions"
   ]
  },
  {
   "cell_type": "markdown",
   "metadata": {},
   "source": [
    "In conclusion we observed that every data set has their own settings and ways to deal with and train our network. Our objective was to train a network to find people who have heart problems.  \n",
    "  \n",
    "This goal has been achieved by checking several settings and parameters of the neural network. We saw that using a specific setting for each dataset was not valid and we had to try other settings out. \n",
    "  \n",
    "Thanks to this we have trained our network and have achieved a good accuracy in our validation data which means we could safely use it for real life scenarios seeing if a person has a heart disease using this network as a helping tool.  \n",
    "  \n",
    "The training could be better if we had more data on hand but we think with the data we have this was a clear win in our eyes."
   ]
  }
 ],
 "metadata": {
  "kernelspec": {
   "display_name": "Python 3",
   "language": "python",
   "name": "python3"
  },
  "language_info": {
   "codemirror_mode": {
    "name": "ipython",
    "version": 3
   },
   "file_extension": ".py",
   "mimetype": "text/x-python",
   "name": "python",
   "nbconvert_exporter": "python",
   "pygments_lexer": "ipython3",
   "version": "3.7.4"
  }
 },
 "nbformat": 4,
 "nbformat_minor": 2
}
