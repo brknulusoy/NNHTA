{
 "cells": [
  {
   "cell_type": "markdown",
   "metadata": {},
   "source": [
    "# Case 3 : Patient Drug Review"
   ]
  },
  {
   "cell_type": "markdown",
   "metadata": {},
   "source": [
    "**Ismail Barkin Ulusoy <br>\n",
    "Kritameth Coothongkul <br>\n",
    "Jiwon Lee <br>\n",
    "Nayoun Kang** <br>\n",
    "\n",
    "**<br>Last Edited : 18th March 2020<br>**\n",
    "**<font size=\"4\">Helsinki Metropolia University of Applied Sciences<font size=\"4\">**"
   ]
  },
  {
   "cell_type": "markdown",
   "metadata": {},
   "source": [
    "**<font size=\"6\">Background**"
   ]
  },
  {
   "cell_type": "markdown",
   "metadata": {},
   "source": [
    "The objective of this document is to create a text processing and a classifier to address the following question: **\"Can you predict the rating of the drug based on the review?\"** from a collection of patient drug reviews extracted from https://www.drugs.com/ through convolutional (1D) neural networks."
   ]
  },
  {
   "cell_type": "markdown",
   "metadata": {},
   "source": [
    "**<font size=\"6\">Data**"
   ]
  },
  {
   "cell_type": "markdown",
   "metadata": {},
   "source": [
    "Our datasets were provided by Jessica Li at Ref: https://www.kaggle.com/jessicali9530/kuc-hackathon-winter-2018/home<br>\n",
    "which was originally published on the \"UCI Machine Learning repository\" Ref: https://archive.ics.uci.edu/ml/datasets/Drug+Review+Dataset+%28Drugs.com%29<br>\n",
    "In which these datasets are the reviews of drugs written by users who have used these drugs before."
   ]
  },
  {
   "cell_type": "code",
   "execution_count": 1,
   "metadata": {},
   "outputs": [
    {
     "name": "stdout",
     "output_type": "stream",
     "text": [
      "Populating the interactive namespace from numpy and matplotlib\n"
     ]
    }
   ],
   "source": [
    "%pylab inline\n",
    "import time # for timing\n",
    "import numpy as np # linear algebra\n",
    "import pandas as pd # data processing, CSV file I/O (e.g. pd.read_csv)\n",
    "import tensorflow as tf\n",
    "from sklearn.model_selection import train_test_split # preprocessing datasets\n",
    "from tensorflow.keras.preprocessing.text import Tokenizer # text preprocessing\n",
    "from tensorflow.keras.models import Sequential # modeling neural networks\n",
    "from tensorflow.keras.layers import Dense, Activation, Embedding, SimpleRNN,Flatten # layers for neural networks\n",
    "from sklearn.metrics import confusion_matrix, classification_report, cohen_kappa_score"
   ]
  },
  {
   "cell_type": "code",
   "execution_count": 2,
   "metadata": {},
   "outputs": [],
   "source": [
    "# Get the training and test data\n",
    "dftrain = pd.read_csv('C:/Users/Marker/Downloads/kuc-hackathon-winter-2018/drugsComTrain_raw.csv')\n",
    "dftest = pd.read_csv('C:/Users/Marker/Downloads/kuc-hackathon-winter-2018/drugsComTest_raw.csv')"
   ]
  },
  {
   "cell_type": "markdown",
   "metadata": {},
   "source": [
    "The datasets that were given were split into 2 sets training and test, where the training sets are already known by the model where as the test sets are not."
   ]
  },
  {
   "cell_type": "code",
   "execution_count": 3,
   "metadata": {},
   "outputs": [
    {
     "data": {
      "text/html": [
       "<div>\n",
       "<style scoped>\n",
       "    .dataframe tbody tr th:only-of-type {\n",
       "        vertical-align: middle;\n",
       "    }\n",
       "\n",
       "    .dataframe tbody tr th {\n",
       "        vertical-align: top;\n",
       "    }\n",
       "\n",
       "    .dataframe thead th {\n",
       "        text-align: right;\n",
       "    }\n",
       "</style>\n",
       "<table border=\"1\" class=\"dataframe\">\n",
       "  <thead>\n",
       "    <tr style=\"text-align: right;\">\n",
       "      <th></th>\n",
       "      <th>uniqueID</th>\n",
       "      <th>drugName</th>\n",
       "      <th>condition</th>\n",
       "      <th>review</th>\n",
       "      <th>rating</th>\n",
       "      <th>date</th>\n",
       "      <th>usefulCount</th>\n",
       "    </tr>\n",
       "  </thead>\n",
       "  <tbody>\n",
       "    <tr>\n",
       "      <th>0</th>\n",
       "      <td>206461</td>\n",
       "      <td>Valsartan</td>\n",
       "      <td>Left Ventricular Dysfunction</td>\n",
       "      <td>\"It has no side effect, I take it in combinati...</td>\n",
       "      <td>9</td>\n",
       "      <td>20-May-12</td>\n",
       "      <td>27</td>\n",
       "    </tr>\n",
       "    <tr>\n",
       "      <th>1</th>\n",
       "      <td>95260</td>\n",
       "      <td>Guanfacine</td>\n",
       "      <td>ADHD</td>\n",
       "      <td>\"My son is halfway through his fourth week of ...</td>\n",
       "      <td>8</td>\n",
       "      <td>27-Apr-10</td>\n",
       "      <td>192</td>\n",
       "    </tr>\n",
       "    <tr>\n",
       "      <th>2</th>\n",
       "      <td>92703</td>\n",
       "      <td>Lybrel</td>\n",
       "      <td>Birth Control</td>\n",
       "      <td>\"I used to take another oral contraceptive, wh...</td>\n",
       "      <td>5</td>\n",
       "      <td>14-Dec-09</td>\n",
       "      <td>17</td>\n",
       "    </tr>\n",
       "    <tr>\n",
       "      <th>3</th>\n",
       "      <td>138000</td>\n",
       "      <td>Ortho Evra</td>\n",
       "      <td>Birth Control</td>\n",
       "      <td>\"This is my first time using any form of birth...</td>\n",
       "      <td>8</td>\n",
       "      <td>3-Nov-15</td>\n",
       "      <td>10</td>\n",
       "    </tr>\n",
       "    <tr>\n",
       "      <th>4</th>\n",
       "      <td>35696</td>\n",
       "      <td>Buprenorphine / naloxone</td>\n",
       "      <td>Opiate Dependence</td>\n",
       "      <td>\"Suboxone has completely turned my life around...</td>\n",
       "      <td>9</td>\n",
       "      <td>27-Nov-16</td>\n",
       "      <td>37</td>\n",
       "    </tr>\n",
       "  </tbody>\n",
       "</table>\n",
       "</div>"
      ],
      "text/plain": [
       "   uniqueID                  drugName                     condition  \\\n",
       "0    206461                 Valsartan  Left Ventricular Dysfunction   \n",
       "1     95260                Guanfacine                          ADHD   \n",
       "2     92703                    Lybrel                 Birth Control   \n",
       "3    138000                Ortho Evra                 Birth Control   \n",
       "4     35696  Buprenorphine / naloxone             Opiate Dependence   \n",
       "\n",
       "                                              review  rating       date  \\\n",
       "0  \"It has no side effect, I take it in combinati...       9  20-May-12   \n",
       "1  \"My son is halfway through his fourth week of ...       8  27-Apr-10   \n",
       "2  \"I used to take another oral contraceptive, wh...       5  14-Dec-09   \n",
       "3  \"This is my first time using any form of birth...       8   3-Nov-15   \n",
       "4  \"Suboxone has completely turned my life around...       9  27-Nov-16   \n",
       "\n",
       "   usefulCount  \n",
       "0           27  \n",
       "1          192  \n",
       "2           17  \n",
       "3           10  \n",
       "4           37  "
      ]
     },
     "execution_count": 3,
     "metadata": {},
     "output_type": "execute_result"
    }
   ],
   "source": [
    "dftrain.head()"
   ]
  },
  {
   "cell_type": "markdown",
   "metadata": {},
   "source": [
    "The datasets show the review of a drug used by a patient which is represented by a uniqueID,with each drug having a 10 star rating scale where 1 is bad and 10 is good."
   ]
  },
  {
   "cell_type": "markdown",
   "metadata": {},
   "source": [
    "We split the datasets into list, with each list only having reviews and star ratings."
   ]
  },
  {
   "cell_type": "code",
   "execution_count": 4,
   "metadata": {},
   "outputs": [],
   "source": [
    "train_samples = dftrain['review'].values.tolist()\n",
    "#train_labels = dftrain['rating'].values\n",
    "test_samples = dftest['review'].values.tolist()\n",
    "#test_labels = dftest['rating'].values"
   ]
  },
  {
   "cell_type": "markdown",
   "metadata": {},
   "source": [
    "After that we split the list into 3 different categories:<br>\n",
    " drugs that got a rating from 1 to 4 stars would be labeled 0<br>\n",
    " drugs that got a rating from 5 to 6 stars would be labeled 1<br>\n",
    " drugs that got a rating that is higher than 6 stars (7 stars and up) would be labeled 2<br>"
   ]
  },
  {
   "cell_type": "code",
   "execution_count": 5,
   "metadata": {},
   "outputs": [],
   "source": [
    "# Create three categories\n",
    "# label = 2, when rating = 6..\n",
    "# label = 1, when rating = 5..6\n",
    "# label = 0, when rating = 1..4\n",
    "train_labels = dftrain['rating'].values\n",
    "for i in range(len(train_labels)):\n",
    "    x = train_labels[i]\n",
    "    if x > 6:\n",
    "        train_labels[i] = 2\n",
    "    elif (x == 5 or x == 6):\n",
    "        train_labels[i] = 1\n",
    "    else:\n",
    "        train_labels[i] = 0\n",
    "        \n",
    "test_labels = dftest['rating'].values\n",
    "for i in range(len(test_labels)):\n",
    "    x = test_labels[i]\n",
    "    if x > 6:\n",
    "        test_labels[i] = 2\n",
    "    elif (x == 5 or x == 6):\n",
    "        test_labels[i] = 1\n",
    "    else:\n",
    "        test_labels[i] = 0"
   ]
  },
  {
   "cell_type": "markdown",
   "metadata": {},
   "source": [
    "To make the model understand what each sentence mean we need to split each sentences into words first, however since there are a lot of different words that will be used in each review we decided to build up a word index that consist of only the most common 5000 words found from all reviews."
   ]
  },
  {
   "cell_type": "code",
   "execution_count": 6,
   "metadata": {},
   "outputs": [
    {
     "name": "stdout",
     "output_type": "stream",
     "text": [
      "Wall time: 9.46 s\n"
     ]
    }
   ],
   "source": [
    "%%time\n",
    "# Build up the word index (only 5000 most common words)\n",
    "\n",
    "from tensorflow.keras.preprocessing.text import Tokenizer\n",
    "\n",
    "tokenizer = Tokenizer(num_words = 5000)\n",
    "tokenizer.fit_on_texts(train_samples)"
   ]
  },
  {
   "cell_type": "markdown",
   "metadata": {},
   "source": [
    "The output will be a word index of up to 5000 words, which will cannot be fed into the model therefore we will change each word into numbers instead."
   ]
  },
  {
   "cell_type": "code",
   "execution_count": 7,
   "metadata": {},
   "outputs": [
    {
     "name": "stdout",
     "output_type": "stream",
     "text": [
      "[5, 38, 28, 35, 197, 1, 45, 5, 15, 848, 12, 2922, 99, 150, 2, 3806, 1551]\n"
     ]
    }
   ],
   "source": [
    "# Convert reviews to integer sequences\n",
    "\n",
    "train_sequences = tokenizer.texts_to_sequences(train_samples)\n",
    "test_sequences = tokenizer.texts_to_sequences(test_samples)\n",
    "print(train_sequences[0])"
   ]
  },
  {
   "cell_type": "markdown",
   "metadata": {},
   "source": [
    "Here we make the reviews have the same length so they can be input into the model with a maximum of 100 words."
   ]
  },
  {
   "cell_type": "code",
   "execution_count": 8,
   "metadata": {},
   "outputs": [
    {
     "name": "stdout",
     "output_type": "stream",
     "text": [
      "[   0    0    0    0    0    0    0    0    0    0    0    0    0    0\n",
      "    0    0    0    0    0    0    0    0    0    0    0    0    0    0\n",
      "    0    0    0    0    0    0    0    0    0    0    0    0    0    0\n",
      "    0    0    0    0    0    0    0    0    0    0    0    0    0    0\n",
      "    0    0    0    0    0    0    0    0    0    0    0    0    0    0\n",
      "    0    0    0    0    0    0    0    0    0    0    0    0    0    5\n",
      "   38   28   35  197    1   45    5   15  848   12 2922   99  150    2\n",
      " 3806 1551]\n"
     ]
    }
   ],
   "source": [
    "# Pad the reviews to have the same length\n",
    "\n",
    "from tensorflow.keras import preprocessing\n",
    "\n",
    "maxlen = 100\n",
    "\n",
    "train_sequences = preprocessing.sequence.pad_sequences(train_sequences, maxlen = maxlen)\n",
    "test_sequences = preprocessing.sequence.pad_sequences(test_sequences, maxlen = maxlen)\n",
    "print(train_sequences[0])"
   ]
  },
  {
   "cell_type": "markdown",
   "metadata": {},
   "source": [
    "We also needed to change the muticlass labels into a one-hot form to not invoke the categorical loss error."
   ]
  },
  {
   "cell_type": "code",
   "execution_count": 9,
   "metadata": {},
   "outputs": [
    {
     "name": "stdout",
     "output_type": "stream",
     "text": [
      "[[0. 0. 1.]\n",
      " [0. 0. 1.]\n",
      " [0. 1. 0.]\n",
      " [0. 0. 1.]\n",
      " [0. 0. 1.]]\n"
     ]
    }
   ],
   "source": [
    "# Preprocess the multiclass labels to one-hot form\n",
    "\n",
    "from tensorflow.keras.utils import to_categorical\n",
    "\n",
    "train_labels = to_categorical(train_labels)\n",
    "test_labels = to_categorical(test_labels)\n",
    "\n",
    "print(train_labels[:5])"
   ]
  },
  {
   "cell_type": "markdown",
   "metadata": {},
   "source": [
    "Finally we flatten the data so it can be fed into the input layer."
   ]
  },
  {
   "cell_type": "code",
   "execution_count": 10,
   "metadata": {},
   "outputs": [
    {
     "name": "stdout",
     "output_type": "stream",
     "text": [
      "Model: \"sequential\"\n",
      "_________________________________________________________________\n",
      "Layer (type)                 Output Shape              Param #   \n",
      "=================================================================\n",
      "embedding (Embedding)        (None, 100, 2)            10000     \n",
      "_________________________________________________________________\n",
      "flatten (Flatten)            (None, 200)               0         \n",
      "_________________________________________________________________\n",
      "dense (Dense)                (None, 3)                 603       \n",
      "=================================================================\n",
      "Total params: 10,603\n",
      "Trainable params: 10,603\n",
      "Non-trainable params: 0\n",
      "_________________________________________________________________\n"
     ]
    }
   ],
   "source": [
    "# Use word vectors of dimension 2, flatten and feed straight to output layer\n",
    "\n",
    "model = Sequential()\n",
    "model.add(Embedding(5000, 2, input_length = maxlen))\n",
    "model.add(Flatten())\n",
    "model.add(Dense(3, activation = 'softmax'))\n",
    "model.summary()"
   ]
  },
  {
   "cell_type": "code",
   "execution_count": 11,
   "metadata": {},
   "outputs": [],
   "source": [
    "# Compile the model\n",
    "\n",
    "model.compile(optimizer = 'rmsprop', loss = 'categorical_crossentropy', metrics = ['acc'])"
   ]
  },
  {
   "cell_type": "markdown",
   "metadata": {},
   "source": [
    "Now we train the model to see if it can predict the rating of a drug from the reviews. We also splitted 20% from the training set to be used as validation."
   ]
  },
  {
   "cell_type": "code",
   "execution_count": 12,
   "metadata": {},
   "outputs": [
    {
     "name": "stdout",
     "output_type": "stream",
     "text": [
      "Train on 129037 samples, validate on 32260 samples\n",
      "Epoch 1/5\n",
      "129037/129037 [==============================] - 135s 1ms/sample - loss: 0.6498 - acc: 0.7479 - val_loss: 0.5876 - val_acc: 0.7774\n",
      "Epoch 2/5\n",
      "129037/129037 [==============================] - 121s 936us/sample - loss: 0.5679 - acc: 0.7868 - val_loss: 0.5834 - val_acc: 0.7800\n",
      "Epoch 3/5\n",
      "129037/129037 [==============================] - 135s 1ms/sample - loss: 0.5592 - acc: 0.7889 - val_loss: 0.5788 - val_acc: 0.7803\n",
      "Epoch 4/5\n",
      "129037/129037 [==============================] - 132s 1ms/sample - loss: 0.5547 - acc: 0.7901 - val_loss: 0.5792 - val_acc: 0.7803\n",
      "Epoch 5/5\n",
      "129037/129037 [==============================] - 128s 989us/sample - loss: 0.5531 - acc: 0.7919 - val_loss: 0.5818 - val_acc: 0.7772\n",
      "Wall time: 10min 51s\n"
     ]
    }
   ],
   "source": [
    "%%time\n",
    "# Train the model\n",
    "\n",
    "history = model.fit(train_sequences, train_labels, epochs = 5, batch_size=32, validation_split = 0.2)"
   ]
  },
  {
   "cell_type": "code",
   "execution_count": 13,
   "metadata": {},
   "outputs": [
    {
     "data": {
      "image/png": "[encoded data removed]",
      "text/plain": [
       "<Figure size 432x288 with 1 Axes>"
      ]
     },
     "metadata": {
      "needs_background": "light"
     },
     "output_type": "display_data"
    }
   ],
   "source": [
    "# Plot the training progress, first the loss function ...\n",
    "\n",
    "import matplotlib.pyplot as plt\n",
    "\n",
    "history_dict = history.history\n",
    "loss_values = history_dict['loss']\n",
    "val_loss_values = history_dict['val_loss']\n",
    "\n",
    "epochs = range(1, len(loss_values)+1)\n",
    "\n",
    "plt.plot(epochs, loss_values, 'bo-', label='Training loss')\n",
    "plt.plot(epochs, val_loss_values, 'ro-', label='Validation loss')\n",
    "plt.xlabel('Epochs')\n",
    "plt.ylabel('Loss')\n",
    "plt.legend()\n",
    "plt.show()"
   ]
  },
  {
   "cell_type": "markdown",
   "metadata": {},
   "source": [
    "From the results we can see that the training model is doing great as the training loss goes down after each epoch, as for the validation loss it goes down the first 3 epochs then slighty rise up after that, so it is not perfect but still somewhat stable. Therefore ther is a chance that 5 epochs may be overfitting."
   ]
  },
  {
   "cell_type": "code",
   "execution_count": 14,
   "metadata": {},
   "outputs": [
    {
     "data": {
      "image/png": "[encoded data removed]",
      "text/plain": [
       "<Figure size 432x288 with 1 Axes>"
      ]
     },
     "metadata": {
      "needs_background": "light"
     },
     "output_type": "display_data"
    }
   ],
   "source": [
    "# ... and the accuracy.\n",
    "\n",
    "acc_values = history_dict['acc']\n",
    "val_acc_values = history_dict['val_acc']\n",
    "\n",
    "plt.plot(epochs, acc_values, 'bo-', label='Training acc')\n",
    "plt.plot(epochs, val_acc_values, 'ro-', label='Validation acc')\n",
    "plt.xlabel('Epochs')\n",
    "plt.ylabel('Accuracy')\n",
    "plt.legend()\n",
    "plt.show()"
   ]
  },
  {
   "cell_type": "markdown",
   "metadata": {},
   "source": [
    "As for the accuracy we can see that the model is also doing great as the training accuracy goes up after each epoch, however the validation accuracy slighty increase at the 2nd epoch and was then stable until the 5th epoch where it slighty went down, so it is not perfect but still stable enough to be usable."
   ]
  },
  {
   "cell_type": "markdown",
   "metadata": {},
   "source": [
    "Now we test our model by using the test sets to see how accurate is the model when getting new data."
   ]
  },
  {
   "cell_type": "code",
   "execution_count": 15,
   "metadata": {},
   "outputs": [
    {
     "name": "stdout",
     "output_type": "stream",
     "text": [
      "53766/53766 [==============================] - 45s 833us/sample - loss: 0.5803 - acc: 0.7792\n"
     ]
    },
    {
     "data": {
      "text/plain": [
       "[0.5802536560748742, 0.7791913]"
      ]
     },
     "execution_count": 15,
     "metadata": {},
     "output_type": "execute_result"
    }
   ],
   "source": [
    "# Evaluate with test data\n",
    "\n",
    "model.evaluate(test_sequences, test_labels)"
   ]
  },
  {
   "cell_type": "code",
   "execution_count": 16,
   "metadata": {},
   "outputs": [],
   "source": [
    "prediction = model.predict(test_sequences)"
   ]
  },
  {
   "cell_type": "code",
   "execution_count": 17,
   "metadata": {},
   "outputs": [],
   "source": [
    "# This has been done since Classification metrics can't handle a mix of multilabel-indicator and continuous-multioutput targets\n",
    "test_labels_singular = np.argmax(test_labels, axis=1)\n",
    "prediction_singular = np.argmax(prediction, axis=1)"
   ]
  },
  {
   "cell_type": "code",
   "execution_count": 18,
   "metadata": {},
   "outputs": [
    {
     "name": "stdout",
     "output_type": "stream",
     "text": [
      "[[ 8521   330  4646]\n",
      " [ 1291   351  3187]\n",
      " [ 1933   485 33022]]\n"
     ]
    }
   ],
   "source": [
    "confusion_m =confusion_matrix(test_labels_singular,prediction_singular)\n",
    "print(confusion_m)"
   ]
  },
  {
   "cell_type": "code",
   "execution_count": 19,
   "metadata": {},
   "outputs": [
    {
     "name": "stdout",
     "output_type": "stream",
     "text": [
      "              precision    recall  f1-score   support\n",
      "\n",
      "           0       0.73      0.63      0.68     13497\n",
      "           1       0.30      0.07      0.12      4829\n",
      "           2       0.81      0.93      0.87     35440\n",
      "\n",
      "    accuracy                           0.78     53766\n",
      "   macro avg       0.61      0.55      0.55     53766\n",
      "weighted avg       0.74      0.78      0.75     53766\n",
      "\n"
     ]
    }
   ],
   "source": [
    "classification_r = classification_report(test_labels_singular,prediction_singular)\n",
    "print(classification_r)"
   ]
  },
  {
   "cell_type": "markdown",
   "metadata": {},
   "source": [
    "From the results we can see that for ratings of category 0 (1-4 stars) it has a precision of 73% therefore quite average, the model can mostly predict ratings of category 2 (7 stars and up) with up to 81% accuracy which is good. However for the category 1 (5-6 stars) the model did horribly as it can only predict 30% of it correctly. There is a high chance that this is because most reviews are likely to either be very high or very low and barely in between 5 and 6 stars therefore there might have been too little datasets for it compared to the other two categories. "
   ]
  },
  {
   "cell_type": "code",
   "execution_count": 20,
   "metadata": {},
   "outputs": [
    {
     "name": "stdout",
     "output_type": "stream",
     "text": [
      "0.5008245584219426\n"
     ]
    }
   ],
   "source": [
    "#Cohen kappa score of the test\n",
    "cohen_k_s = cohen_kappa_score(test_labels_singular,prediction_singular)\n",
    "print(cohen_k_s)"
   ]
  },
  {
   "cell_type": "markdown",
   "metadata": {},
   "source": [
    "The definition of Cohen's Kappa score can be found here ref: https://en.wikipedia.org/wiki/Cohen%27s_kappa<br>\n",
    "But to put it simply the closer it is to 1 it means that there is more agreement between users of a category and the the closer it is to 0 there is more disagreement between the users of a category. In other words it means the reliability of a category.<br>\n",
    "<br>\n",
    "This models Cohen Kappa score is at 0.5 so it is very between."
   ]
  },
  {
   "cell_type": "markdown",
   "metadata": {},
   "source": [
    "Now we will try the model by using Recurrent neural network (RNN) method instead."
   ]
  },
  {
   "cell_type": "code",
   "execution_count": 21,
   "metadata": {},
   "outputs": [
    {
     "name": "stdout",
     "output_type": "stream",
     "text": [
      "Model: \"sequential_1\"\n",
      "_________________________________________________________________\n",
      "Layer (type)                 Output Shape              Param #   \n",
      "=================================================================\n",
      "embedding_1 (Embedding)      (None, None, 16)          80000     \n",
      "_________________________________________________________________\n",
      "simple_rnn (SimpleRNN)       (None, 16)                528       \n",
      "_________________________________________________________________\n",
      "dense_1 (Dense)              (None, 3)                 51        \n",
      "=================================================================\n",
      "Total params: 80,579\n",
      "Trainable params: 80,579\n",
      "Non-trainable params: 0\n",
      "_________________________________________________________________\n"
     ]
    }
   ],
   "source": [
    "# Try another model, this time with RNN structure\n",
    "\n",
    "model = Sequential()\n",
    "model.add(Embedding(5000, 16))\n",
    "model.add(SimpleRNN(16))\n",
    "model.add(Dense(3, activation = 'softmax'))\n",
    "\n",
    "model.summary()"
   ]
  },
  {
   "cell_type": "code",
   "execution_count": 22,
   "metadata": {},
   "outputs": [],
   "source": [
    "model.compile(optimizer = 'rmsprop', loss = 'categorical_crossentropy', metrics = ['acc'])"
   ]
  },
  {
   "cell_type": "code",
   "execution_count": 23,
   "metadata": {},
   "outputs": [
    {
     "name": "stdout",
     "output_type": "stream",
     "text": [
      "Train on 129037 samples, validate on 32260 samples\n",
      "Epoch 1/5\n",
      "129037/129037 [==============================] - 263s 2ms/sample - loss: 0.6592 - acc: 0.7488 - val_loss: 0.6117 - val_acc: 0.7749\n",
      "Epoch 2/5\n",
      "129037/129037 [==============================] - 271s 2ms/sample - loss: 0.5897 - acc: 0.7823 - val_loss: 0.6284 - val_acc: 0.7556\n",
      "Epoch 3/5\n",
      "129037/129037 [==============================] - 275s 2ms/sample - loss: 0.5713 - acc: 0.7891 - val_loss: 0.6121 - val_acc: 0.7699\n",
      "Epoch 4/5\n",
      "129037/129037 [==============================] - 271s 2ms/sample - loss: 0.5627 - acc: 0.7920 - val_loss: 0.5926 - val_acc: 0.7862\n",
      "Epoch 5/5\n",
      "129037/129037 [==============================] - 279s 2ms/sample - loss: 0.5533 - acc: 0.7963 - val_loss: 0.6034 - val_acc: 0.7753\n",
      "Wall time: 22min 39s\n"
     ]
    },
    {
     "data": {
      "text/plain": [
       "<tensorflow.python.keras.callbacks.History at 0x12635cc73c8>"
      ]
     },
     "execution_count": 23,
     "metadata": {},
     "output_type": "execute_result"
    }
   ],
   "source": [
    "%%time\n",
    "model.fit(train_sequences, train_labels, epochs = 5, batch_size=32, validation_split=0.2)"
   ]
  },
  {
   "cell_type": "code",
   "execution_count": 24,
   "metadata": {},
   "outputs": [
    {
     "data": {
      "image/png": "[encoded data removed]",
      "text/plain": [
       "<Figure size 432x288 with 1 Axes>"
      ]
     },
     "metadata": {
      "needs_background": "light"
     },
     "output_type": "display_data"
    }
   ],
   "source": [
    "# Plot the training progress, first the loss function ...\n",
    "\n",
    "history_dict = history.history\n",
    "loss_values = history_dict['loss']\n",
    "val_loss_values = history_dict['val_loss']\n",
    "\n",
    "epochs = range(1, len(loss_values)+1)\n",
    "\n",
    "plt.plot(epochs, loss_values, 'bo-', label='Training loss')\n",
    "plt.plot(epochs, val_loss_values, 'ro-', label='Validation loss')\n",
    "plt.xlabel('Epochs')\n",
    "plt.ylabel('Loss')\n",
    "plt.legend()\n",
    "plt.show()"
   ]
  },
  {
   "cell_type": "markdown",
   "metadata": {},
   "source": [
    "From the results we can see that the training loss is almost the same as the previous model. However the validation loss is worse than the previous model as it fluctuates more and by epoch 5 the loss is higher than it was at the beginning."
   ]
  },
  {
   "cell_type": "code",
   "execution_count": 25,
   "metadata": {},
   "outputs": [
    {
     "data": {
      "image/png": "[encoded data removed]",
      "text/plain": [
       "<Figure size 432x288 with 1 Axes>"
      ]
     },
     "metadata": {
      "needs_background": "light"
     },
     "output_type": "display_data"
    }
   ],
   "source": [
    "# ... and the accuracy.\n",
    "\n",
    "acc_values = history_dict['acc']\n",
    "val_acc_values = history_dict['val_acc']\n",
    "\n",
    "plt.plot(epochs, acc_values, 'bo-', label='Training acc')\n",
    "plt.plot(epochs, val_acc_values, 'ro-', label='Validation acc')\n",
    "plt.xlabel('Epochs')\n",
    "plt.ylabel('Accuracy')\n",
    "plt.legend()\n",
    "plt.show()"
   ]
  },
  {
   "cell_type": "markdown",
   "metadata": {},
   "source": [
    "The training accuracy also seems the same as the previous model, as for the validation accuracy it is worse once again as it fluctuates more and is lower at epoch 5 to its 1st epoch."
   ]
  },
  {
   "cell_type": "code",
   "execution_count": 26,
   "metadata": {},
   "outputs": [
    {
     "name": "stdout",
     "output_type": "stream",
     "text": [
      "53766/53766 [==============================] - 101s 2ms/sample - loss: 0.5986 - acc: 0.7771\n"
     ]
    },
    {
     "data": {
      "text/plain": [
       "[0.5985689852797585, 0.777071]"
      ]
     },
     "execution_count": 26,
     "metadata": {},
     "output_type": "execute_result"
    }
   ],
   "source": [
    "model.evaluate(test_sequences, test_labels)"
   ]
  },
  {
   "cell_type": "code",
   "execution_count": 27,
   "metadata": {},
   "outputs": [],
   "source": [
    "prediction = model.predict(test_sequences)"
   ]
  },
  {
   "cell_type": "code",
   "execution_count": 28,
   "metadata": {},
   "outputs": [],
   "source": [
    "# This has been done since Classification metrics can't handle a mix of multilabel-indicator and continuous-multioutput targets\n",
    "test_labels_singular = np.argmax(test_labels, axis=1)\n",
    "prediction_singular = np.argmax(prediction, axis=1)"
   ]
  },
  {
   "cell_type": "code",
   "execution_count": 29,
   "metadata": {},
   "outputs": [
    {
     "name": "stdout",
     "output_type": "stream",
     "text": [
      "[[10782    52  2663]\n",
      " [ 2390    48  2391]\n",
      " [ 4367   123 30950]]\n"
     ]
    }
   ],
   "source": [
    "confusion_m =confusion_matrix(test_labels_singular,prediction_singular)\n",
    "print(confusion_m)"
   ]
  },
  {
   "cell_type": "code",
   "execution_count": 30,
   "metadata": {},
   "outputs": [
    {
     "name": "stdout",
     "output_type": "stream",
     "text": [
      "              precision    recall  f1-score   support\n",
      "\n",
      "           0       0.61      0.80      0.69     13497\n",
      "           1       0.22      0.01      0.02      4829\n",
      "           2       0.86      0.87      0.87     35440\n",
      "\n",
      "    accuracy                           0.78     53766\n",
      "   macro avg       0.56      0.56      0.53     53766\n",
      "weighted avg       0.74      0.78      0.75     53766\n",
      "\n"
     ]
    }
   ],
   "source": [
    "classification_r = classification_report(test_labels_singular,prediction_singular)\n",
    "print(classification_r)"
   ]
  },
  {
   "cell_type": "markdown",
   "metadata": {},
   "source": [
    "From the result, the RNN model can predict category 2 better than the previous model at  86% compared to the previous model at 81%, but the accuracy for category 0 and 1 are lower."
   ]
  },
  {
   "cell_type": "code",
   "execution_count": 31,
   "metadata": {},
   "outputs": [
    {
     "name": "stdout",
     "output_type": "stream",
     "text": [
      "0.5319977045232859\n"
     ]
    }
   ],
   "source": [
    "#Cohen kappa score of the test\n",
    "cohen_k_s = cohen_kappa_score(test_labels_singular,prediction_singular)\n",
    "print(cohen_k_s)"
   ]
  },
  {
   "cell_type": "markdown",
   "metadata": {},
   "source": [
    "As for the Cohen's Kappa score, the RNN model got around 0.53 therefore not really that different from the previous model."
   ]
  },
  {
   "cell_type": "markdown",
   "metadata": {},
   "source": [
    "When we compare both models to 'Grässer et al. Table 2, p. 12' we can see the cohen score is more in the middle rather than like the Article where its Closer to disagreement. Accuracy wise our RNN model did better compared in some categories listed above"
   ]
  },
  {
   "cell_type": "code",
   "execution_count": null,
   "metadata": {},
   "outputs": [],
   "source": []
  }
 ],
 "metadata": {
  "kernelspec": {
   "display_name": "Python 3",
   "language": "python",
   "name": "python3"
  },
  "language_info": {
   "codemirror_mode": {
    "name": "ipython",
    "version": 3
   },
   "file_extension": ".py",
   "mimetype": "text/x-python",
   "name": "python",
   "nbconvert_exporter": "python",
   "pygments_lexer": "ipython3",
   "version": "3.7.6"
  }
 },
 "nbformat": 4,
 "nbformat_minor": 4
}
